{
 "cells": [
  {
   "cell_type": "code",
   "execution_count": 153,
   "metadata": {},
   "outputs": [],
   "source": [
    "import pandas as pd\n",
    "import numpy as np\n",
    "import re\n",
    "from nltk.stem import WordNetLemmatizer"
   ]
  },
  {
   "cell_type": "code",
   "execution_count": 154,
   "metadata": {},
   "outputs": [],
   "source": [
    "# loading the questions dataset\n",
    "questions = pd.read_csv('500_questions.csv', encoding='iso-8859-1')\n",
    "# loading the topics dataset\n",
    "topics = pd.read_csv('topic_dataset.csv')"
   ]
  },
  {
   "cell_type": "code",
   "execution_count": 155,
   "metadata": {},
   "outputs": [
    {
     "data": {
      "text/html": [
       "<div>\n",
       "<style scoped>\n",
       "    .dataframe tbody tr th:only-of-type {\n",
       "        vertical-align: middle;\n",
       "    }\n",
       "\n",
       "    .dataframe tbody tr th {\n",
       "        vertical-align: top;\n",
       "    }\n",
       "\n",
       "    .dataframe thead th {\n",
       "        text-align: right;\n",
       "    }\n",
       "</style>\n",
       "<table border=\"1\" class=\"dataframe\">\n",
       "  <thead>\n",
       "    <tr style=\"text-align: right;\">\n",
       "      <th></th>\n",
       "      <th>Unnamed: 0</th>\n",
       "      <th>question</th>\n",
       "    </tr>\n",
       "  </thead>\n",
       "  <tbody>\n",
       "    <tr>\n",
       "      <th>0</th>\n",
       "      <td>2254</td>\n",
       "      <td>(Avg. of 42 ) : What is a SQL view?</td>\n",
       "    </tr>\n",
       "    <tr>\n",
       "      <th>1</th>\n",
       "      <td>1390</td>\n",
       "      <td>Question involving Primary Key Integrity const...</td>\n",
       "    </tr>\n",
       "    <tr>\n",
       "      <th>2</th>\n",
       "      <td>1224</td>\n",
       "      <td>How secure are encrypted stored procedures  tr...</td>\n",
       "    </tr>\n",
       "    <tr>\n",
       "      <th>3</th>\n",
       "      <td>1172</td>\n",
       "      <td>8. A candidate appearing for an examinatio  n ...</td>\n",
       "    </tr>\n",
       "    <tr>\n",
       "      <th>4</th>\n",
       "      <td>1135</td>\n",
       "      <td>Consider the following areas for tuning. The o...</td>\n",
       "    </tr>\n",
       "    <tr>\n",
       "      <th>5</th>\n",
       "      <td>22</td>\n",
       "      <td>2. Why we cant create object for abstract class?</td>\n",
       "    </tr>\n",
       "    <tr>\n",
       "      <th>6</th>\n",
       "      <td>1166</td>\n",
       "      <td>6.transfering of pages from memory to peripher...</td>\n",
       "    </tr>\n",
       "    <tr>\n",
       "      <th>7</th>\n",
       "      <td>1693</td>\n",
       "      <td>There are 30 questions in which 2 are STAR QUE...</td>\n",
       "    </tr>\n",
       "    <tr>\n",
       "      <th>8</th>\n",
       "      <td>994</td>\n",
       "      <td>A) InfoPackage â ' Scheduler â ' Repair Reques...</td>\n",
       "    </tr>\n",
       "    <tr>\n",
       "      <th>9</th>\n",
       "      <td>374</td>\n",
       "      <td>An anchoring object is a print condition objec...</td>\n",
       "    </tr>\n",
       "  </tbody>\n",
       "</table>\n",
       "</div>"
      ],
      "text/plain": [
       "   Unnamed: 0                                           question\n",
       "0        2254                (Avg. of 42 ) : What is a SQL view?\n",
       "1        1390  Question involving Primary Key Integrity const...\n",
       "2        1224  How secure are encrypted stored procedures  tr...\n",
       "3        1172  8. A candidate appearing for an examinatio  n ...\n",
       "4        1135  Consider the following areas for tuning. The o...\n",
       "5          22   2. Why we cant create object for abstract class?\n",
       "6        1166  6.transfering of pages from memory to peripher...\n",
       "7        1693  There are 30 questions in which 2 are STAR QUE...\n",
       "8         994  A) InfoPackage â ' Scheduler â ' Repair Reques...\n",
       "9         374  An anchoring object is a print condition objec..."
      ]
     },
     "execution_count": 155,
     "metadata": {},
     "output_type": "execute_result"
    }
   ],
   "source": [
    "questions.head(10)"
   ]
  },
  {
   "cell_type": "code",
   "execution_count": 156,
   "metadata": {},
   "outputs": [
    {
     "data": {
      "text/html": [
       "<div>\n",
       "<style scoped>\n",
       "    .dataframe tbody tr th:only-of-type {\n",
       "        vertical-align: middle;\n",
       "    }\n",
       "\n",
       "    .dataframe tbody tr th {\n",
       "        vertical-align: top;\n",
       "    }\n",
       "\n",
       "    .dataframe thead th {\n",
       "        text-align: right;\n",
       "    }\n",
       "</style>\n",
       "<table border=\"1\" class=\"dataframe\">\n",
       "  <thead>\n",
       "    <tr style=\"text-align: right;\">\n",
       "      <th></th>\n",
       "      <th>Unnamed: 0</th>\n",
       "      <th>topic</th>\n",
       "      <th>subject</th>\n",
       "    </tr>\n",
       "  </thead>\n",
       "  <tbody>\n",
       "    <tr>\n",
       "      <th>0</th>\n",
       "      <td>1115</td>\n",
       "      <td>fcfs</td>\n",
       "      <td>Operating System</td>\n",
       "    </tr>\n",
       "    <tr>\n",
       "      <th>1</th>\n",
       "      <td>1923</td>\n",
       "      <td>dml</td>\n",
       "      <td>Database Management System</td>\n",
       "    </tr>\n",
       "    <tr>\n",
       "      <th>2</th>\n",
       "      <td>835</td>\n",
       "      <td>jdbc</td>\n",
       "      <td>Object_oriented_programing</td>\n",
       "    </tr>\n",
       "    <tr>\n",
       "      <th>3</th>\n",
       "      <td>1866</td>\n",
       "      <td>joints</td>\n",
       "      <td>Database Management System</td>\n",
       "    </tr>\n",
       "    <tr>\n",
       "      <th>4</th>\n",
       "      <td>1125</td>\n",
       "      <td>buffering</td>\n",
       "      <td>Operating System</td>\n",
       "    </tr>\n",
       "  </tbody>\n",
       "</table>\n",
       "</div>"
      ],
      "text/plain": [
       "   Unnamed: 0      topic                     subject\n",
       "0        1115       fcfs            Operating System\n",
       "1        1923        dml  Database Management System\n",
       "2         835       jdbc  Object_oriented_programing\n",
       "3        1866     joints  Database Management System\n",
       "4        1125  buffering            Operating System"
      ]
     },
     "execution_count": 156,
     "metadata": {},
     "output_type": "execute_result"
    }
   ],
   "source": [
    "topics.head()"
   ]
  },
  {
   "cell_type": "code",
   "execution_count": 157,
   "metadata": {},
   "outputs": [],
   "source": [
    "# creating topic related words to categorize the questions\n",
    "related_words = {'fcfs':['fcfs', 'turn'], 'dml':['dml'], 'jdbc':['jdbc', 'connectivity'], 'joints':['joint', 'join', 'joined'],\n",
    "                'buffering':['buffering', 'buffer', 'buffered'], 'applet':['applet'],\n",
    "                'deadlock':['deadlock', 'deadlocking', 'deadlocked'], 'ddl':['ddl'],\n",
    "                'polymorphism':['polymorphism', 'polymorhic'], 'caching':['caching', 'cached', 'cache'],\n",
    "                'thread':['thread', 'threading', 'threaded'], 'security':['security', 'secure', 'secured'], \n",
    "                'scheduling':['scheduling', 'scheduled', 'schedule', 'scheduler'],\n",
    "                'Inheritance':['inheritance', 'inherited', 'inherit', 'inherits'], 'encapsulation':['encapsulation', 'encapsule', 'encapsuled', 'encapsulate'],\n",
    "                'transaction':['transaction', 'transact', 'transacted', 'transactional'], 'Object':['object'], 'sql':['sql', 'view'],\n",
    "                'keys':['key']}\n",
    "topic_to_subject = {'fcfs':'Operating System', 'dml':'Database Management System', 'jdbc':'Object_oriented_programing',\n",
    "                 'joints':'Database Management System', 'buffering':'Operating System', 'applet':'Object_oriented_programing',\n",
    "                 'deadlock':'Operating System', 'ddl':'Database Management System', 'polymorphism':'Object_oriented_programing',\n",
    "                 'caching':'Operating System', 'thread':'Object_oriented_programing', 'security':'Operating System', \n",
    "                 'scheduling':'Operating System', 'Inheritance':'Object_oriented_programing', 'encapsulation':'Object_oriented_programing', \n",
    "                 'transaction':'Database Management System', 'Object':'Object_oriented_programing', 'sql':'Database Management System', \n",
    "                 'keys':'Database Management System'}\n",
    "subject_to_topic = {'Operating System': ['fcfs', 'buffering', 'deadlock', 'caching', 'security', 'scheduling'], \n",
    "                    'Database Management System':['dml', 'joints', 'ddl', 'transaction', 'sql', 'keys'], 'Object_oriented_programming':\n",
    "                    ['jdbc', 'applet', 'polymorphism', 'thread', 'Inheritance', 'encapsulation', 'Object']}"
   ]
  },
  {
   "cell_type": "code",
   "execution_count": 158,
   "metadata": {
    "scrolled": true
   },
   "outputs": [],
   "source": [
    "lemmatizer = WordNetLemmatizer()\n",
    "questions['topic'] = [set() for _ in range(len(questions))]\n",
    "\n",
    "# categorizing each question by going through each word\n",
    "for i in range(len(questions)):\n",
    "    for word_fromQ in re.split(r'[^\\w]', questions['question'][i].lower()):\n",
    "        for key, word_list in related_words.items():\n",
    "            if lemmatizer.lemmatize(word_fromQ) in word_list:\n",
    "                questions['topic'][i].add(key)"
   ]
  },
  {
   "cell_type": "code",
   "execution_count": 159,
   "metadata": {},
   "outputs": [
    {
     "name": "stdout",
     "output_type": "stream",
     "text": [
      "25\n"
     ]
    }
   ],
   "source": [
    "# questions having no category\n",
    "print((questions['topic']==set()).sum())"
   ]
  },
  {
   "cell_type": "code",
   "execution_count": 160,
   "metadata": {},
   "outputs": [],
   "source": [
    "# sorting the questions based on the frequency\n",
    "questions.sort_values(['Unnamed: 0'], ascending=[False], axis=0, inplace=True)"
   ]
  },
  {
   "cell_type": "code",
   "execution_count": 161,
   "metadata": {},
   "outputs": [
    {
     "data": {
      "text/html": [
       "<div>\n",
       "<style scoped>\n",
       "    .dataframe tbody tr th:only-of-type {\n",
       "        vertical-align: middle;\n",
       "    }\n",
       "\n",
       "    .dataframe tbody tr th {\n",
       "        vertical-align: top;\n",
       "    }\n",
       "\n",
       "    .dataframe thead th {\n",
       "        text-align: right;\n",
       "    }\n",
       "</style>\n",
       "<table border=\"1\" class=\"dataframe\">\n",
       "  <thead>\n",
       "    <tr style=\"text-align: right;\">\n",
       "      <th></th>\n",
       "      <th>Unnamed: 0</th>\n",
       "      <th>question</th>\n",
       "      <th>topic</th>\n",
       "    </tr>\n",
       "  </thead>\n",
       "  <tbody>\n",
       "    <tr>\n",
       "      <th>430</th>\n",
       "      <td>2421</td>\n",
       "      <td>A few SQL queries were also asked (find second...</td>\n",
       "      <td>{sql}</td>\n",
       "    </tr>\n",
       "    <tr>\n",
       "      <th>51</th>\n",
       "      <td>2420</td>\n",
       "      <td>The other 25 questions were technical question...</td>\n",
       "      <td>{Object, sql}</td>\n",
       "    </tr>\n",
       "    <tr>\n",
       "      <th>213</th>\n",
       "      <td>2418</td>\n",
       "      <td>The panel was too helpful and friendly. They t...</td>\n",
       "      <td>{sql}</td>\n",
       "    </tr>\n",
       "    <tr>\n",
       "      <th>63</th>\n",
       "      <td>2416</td>\n",
       "      <td>The interview was quite easy. Most of the ques...</td>\n",
       "      <td>{joints, sql}</td>\n",
       "    </tr>\n",
       "    <tr>\n",
       "      <th>127</th>\n",
       "      <td>2415</td>\n",
       "      <td>For IS/CS DBMS basic knowledge  SQL queries is...</td>\n",
       "      <td>{polymorphism, Inheritance, sql}</td>\n",
       "    </tr>\n",
       "  </tbody>\n",
       "</table>\n",
       "</div>"
      ],
      "text/plain": [
       "     Unnamed: 0                                           question  \\\n",
       "430        2421  A few SQL queries were also asked (find second...   \n",
       "51         2420  The other 25 questions were technical question...   \n",
       "213        2418  The panel was too helpful and friendly. They t...   \n",
       "63         2416  The interview was quite easy. Most of the ques...   \n",
       "127        2415  For IS/CS DBMS basic knowledge  SQL queries is...   \n",
       "\n",
       "                                topic  \n",
       "430                             {sql}  \n",
       "51                      {Object, sql}  \n",
       "213                             {sql}  \n",
       "63                      {joints, sql}  \n",
       "127  {polymorphism, Inheritance, sql}  "
      ]
     },
     "execution_count": 161,
     "metadata": {},
     "output_type": "execute_result"
    }
   ],
   "source": [
    "questions.head()"
   ]
  },
  {
   "cell_type": "code",
   "execution_count": 162,
   "metadata": {
    "scrolled": true
   },
   "outputs": [],
   "source": [
    "unique_subjects = ['Operating System', 'Database Management System', 'Object_oriented_programing']\n",
    "\n",
    "# count to get 20 questions for each subject\n",
    "count = dict(zip(unique_subjects, [0 for _ in range(3)]))\n",
    "\n",
    "# creating a new dataframe that will hold the questions topic wise\n",
    "result = pd.DataFrame(index=range(60), columns = ['Subject name', 'Topic name', 'Question'])\n",
    "result.index.name = 'FAQ no.'\n",
    "\n",
    "# iterating through every row of the modified 500_questions dataframe\n",
    "for row in questions.itertuples():\n",
    "    for t in row.topic:\n",
    "        sub = topic_to_subject[t]\n",
    "        if count[sub] < 20:\n",
    "            prop_index = unique_subjects.index(sub)*10 + count[sub]\n",
    "            result['Subject name'][prop_index] = sub\n",
    "            result['Topic name'][prop_index] = t\n",
    "            result['Question'][prop_index] = row.question\n",
    "            count[sub] += 1"
   ]
  },
  {
   "cell_type": "code",
   "execution_count": 163,
   "metadata": {
    "scrolled": true
   },
   "outputs": [],
   "source": [
    "result.index = result.index + 1\n",
    "result.to_csv('result.csv')"
   ]
  }
 ],
 "metadata": {
  "kernelspec": {
   "display_name": "Python 3",
   "language": "python",
   "name": "python3"
  },
  "language_info": {
   "codemirror_mode": {
    "name": "ipython",
    "version": 3
   },
   "file_extension": ".py",
   "mimetype": "text/x-python",
   "name": "python",
   "nbconvert_exporter": "python",
   "pygments_lexer": "ipython3",
   "version": "3.6.4"
  }
 },
 "nbformat": 4,
 "nbformat_minor": 2
}
